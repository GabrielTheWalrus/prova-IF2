{
  "nbformat": 4,
  "nbformat_minor": 0,
  "metadata": {
    "colab": {
      "name": "PROVA_IF2.ipynb",
      "provenance": [],
      "collapsed_sections": []
    },
    "kernelspec": {
      "display_name": "Python 3",
      "name": "python3"
    },
    "language_info": {
      "name": "python"
    }
  },
  "cells": [
    {
      "cell_type": "markdown",
      "metadata": {
        "id": "vAul_NpjPWYE"
      },
      "source": [
        "Questão 1\n",
        "\n",
        "1 - Realtime Architecture\n",
        "\n",
        "a) Para transformarmos a arquitetura em tempo real, precisaríamos de outra peça que também seria Consumer do Kafka. No caso, poderia ser um Kakfa Stream que toma alguma ação com base nos streaming de entrada.\n",
        "\n",
        "b) Nessa arquitetura, é possível ser mais rápido e efetivo quando um dado trigger é acionado, atuando em tempo real sobre uma falha ou inconsistência de um processo, coisa que num processo batch demoraria mais para ser descoberto ou executado. Além disso, em certos casos, não existe a necessidade de ter um banco de dados associado."
      ]
    },
    {
      "cell_type": "markdown",
      "metadata": {
        "id": "DuBD7t7ttfgB"
      },
      "source": [
        "##Problema: Eficácia da Mídia Digital"
      ]
    },
    {
      "cell_type": "markdown",
      "metadata": {
        "id": "jTtOkpnEss-s"
      },
      "source": [
        "O que você precisa responder:\n",
        "\n",
        "(Preparar o banco de dados/tabelas analíticas para realizar consultas)\n",
        "\n",
        "1) Qual foi a campanha mais cara?\n",
        "2) Qual foi a campanha mais lucrativa?\n",
        "3) Qual o anúncio é o mais eficaz em termos de cliques?\n",
        "4) Qual anúncio é o mais eficas em termos de geração de leads?\n",
        "\n",
        "O que você precisa fazer:\n",
        "\n",
        "1) Ingerir os dados em um banco de dados\n",
        "2) Fornecer uma única tabela pronta para ser usada para responder às perguntas acima\n",
        "3) Fornecer as querys SQL no README (que são as respostas pra cada questão comercial acima)\n",
        "4) Explicar como reproduzir sua solução\n"
      ]
    },
    {
      "cell_type": "markdown",
      "metadata": {
        "id": "6pCmHaybgkkJ"
      },
      "source": [
        "Carregando as bases"
      ]
    },
    {
      "cell_type": "code",
      "metadata": {
        "id": "0zW2UDOKuoUJ"
      },
      "source": [
        "import pandas as pd\n",
        "import json\n",
        "import re\n",
        "\n",
        "## REGEX para o pageview ##\n",
        "\n",
        "ip = r\"\\d{1,3}\\.\\d{1,3}\\.\\d{1,3}\\.\\d{1,3}\"\n",
        "datetime = r\"\\d\\d\\d\\d\\-\\d+\\-\\d+\\s\\d\\d\\:\\d\\d\\:\\d\\d\"\n",
        "url = r\"http.+\"\n",
        "campaign_id = r\"campaign_id=[0-9]+\"\n",
        "creative_id = r\"ad_creative_id=[0-9]+\"\n",
        "deviceId = r\"device_id: \\w+\"\n",
        "notDeviceId = r\"[^device_id: ]+\"\n",
        "referer = r\"http[^ ]+$\""
      ],
      "execution_count": 1,
      "outputs": []
    },
    {
      "cell_type": "code",
      "metadata": {
        "id": "ivSIcdVPuxUN"
      },
      "source": [
        "with open('google_ads_media_costs.jsonl', 'r') as json_file:\n",
        "    json_list = list(json_file)\n",
        "\n",
        "with open('google_ads_media_costs.jsonl') as f:\n",
        "    data = [json.loads(line) for line in f]\n",
        "\n",
        "googleAdsMediaCosts = pd.read_json(path_or_buf=\"google_ads_media_costs.jsonl\", lines=True)\n",
        "googleAdsMediaCosts.columns = [\"DATE\", \"CAMPAIGN_ID\", \"CAMPAIGN_NAME\", \"AD_CREATIVE_ID\", \"AD_CREATIVE_NAME\", \"CLICKS\", \"IMPRESSIONS\", \"COST\"]\n",
        "googleAdsMediaCosts[\"SRC\"] = \"google\"\n",
        "\n",
        "facebookAdsMediaCosts = pd.read_json(path_or_buf=\"facebook_ads_media_costs.jsonl\", lines=True)\n",
        "facebookAdsMediaCosts.columns = [\"DATE\", \"CAMPAIGN_ID\", \"CAMPAIGN_NAME\", \"CLICKS\", \"IMPRESSIONS\", \"COST\"]\n",
        "facebookAdsMediaCosts[\"SRC\"] = \"facebook\"\n",
        "\n",
        "customer_leads_funnel = pd.read_csv(\"customer_leads_funnel.csv\", names = [\"ID_DEVICE\", \"ID_LEAD\", \"REGISTERED_AT\", \"CREDIT_DECISION\", \"CREDIT_DECISION_AT\", \"SIGNED_AT\", \"REVENUE\"])\n",
        "\n",
        "pageview = []\n",
        "\n",
        "with open(\"pageview.txt\", 'r') as txt_file:\n",
        "  for i in txt_file:\n",
        "    i = i.replace(\"\\n\", \"\")\n",
        "    pageview.append(i.split(\"|\"))\n",
        "\n",
        "line = []\n",
        "matrix = []\n",
        "\n",
        "for i in pageview:\n",
        "\n",
        "  line.append(re.findall(ip, i[0])[0])\n",
        "  line.append(re.findall(datetime, i[0])[0])\n",
        "  line.append(re.findall(url, i[0])[0])\n",
        "  try:\n",
        "    line.append(re.findall(r\"[0-9]+\", re.findall(campaign_id, line[2])[0])[0])\n",
        "  except:\n",
        "    line.append(\"\")\n",
        "  try:\n",
        "    line.append(re.findall(r\"[0-9]+\", re.findall(creative_id, line[2])[0])[0])\n",
        "  except:\n",
        "    line.append(\"\")\n",
        "  line.append(re.findall(notDeviceId, i[1])[0])\n",
        "  line.append(re.findall(referer, i[2])[0])\n",
        "\n",
        "  matrix.append(line)\n",
        "\n",
        "  line = []\n",
        "\n",
        "#['169.112.4.32', '2018-10-23 08:19:36', 'http://www.creditas.com.br/emprestimo?ad_creative_id=20001&campaign_id=1006\n",
        "cols = [\"IP\", \"DATE\", \"URL\", \"ID_CAMPAIGN\", \"ID_CREATIVE\", \"ID_DEVICE\", \"REFERER\"]\n",
        "pageviewDataFrame = pd.DataFrame(matrix, columns = cols)"
      ],
      "execution_count": 2,
      "outputs": []
    },
    {
      "cell_type": "markdown",
      "metadata": {
        "id": "vU7lalt1hcwW"
      },
      "source": [
        "Carregando bases do Sqlite"
      ]
    },
    {
      "cell_type": "code",
      "metadata": {
        "id": "Zuw3g543JzDE"
      },
      "source": [
        "#Códigos para o SQL\n",
        "\n",
        "dropADSMedia = \"drop table if exists ADS_MEDIA_COSTS;\"\n",
        "truncateADSMedia = \"truncate table ADS_MEDIA_COSTS;\"\n",
        "\n",
        "createADSMedia = \"\"\"\n",
        "\n",
        "CREATE TABLE ADS_MEDIA_COSTS (\n",
        "  \n",
        "    ID_ADS_MEDIA_COSTS INTEGER PRIMARY KEY AUTOINCREMENT,\n",
        "    DATE datetime, \n",
        "    CAMPAIGN_ID INT,\n",
        "    CAMPAIGN_NAME NVARCHAR(255),\n",
        "    AD_CREATIVE_ID INT, \n",
        "    AD_CREATIVE_NAME NVARCHAR(255),\n",
        "    CLICKS INT, \n",
        "    IMPRESSIONS INT,\n",
        "    COST REAL,\n",
        "    SRC nvarchar(20)\n",
        "    \n",
        "  );\"\"\"\n",
        "\n",
        "createPageview = \"\"\"\n",
        "\n",
        "CREATE TABLE PAGEVIEW (\n",
        "    \n",
        "    ID_PAGEVIEW INTEGER PRIMARY KEY AUTOINCREMENT,\n",
        "    IP NVARCHAR(50),\n",
        "    DATE datetime,\n",
        "    URL nvarchar(255),\n",
        "    ID_CAMPAIGN INT,\n",
        "    ID_CREATIVE INT,\n",
        "    ID_DEVICE nvarchar(50),\n",
        "    REFERER nvarchar(255)\n",
        "    \n",
        " );\"\"\"\n",
        "\n",
        "createCustomerLeadsFunnel = \"\"\"\n",
        "\n",
        "CREATE TABLE CUSTOMER_LEADS_FUNNEL (\n",
        "  \n",
        "  ID_CUSTOMER_LEADS_FUNNEL INTEGER PRIMARY KEY AUTOINCREMENT,\n",
        "  ID_DEVICE INT,\n",
        "  ID_LEAD INT,\n",
        "  REGISTERED_AT DATETIME,\n",
        "  CREDIT_DECISION NVARCHAR(5),\n",
        "  CREDIT_DECISION_AT DATETIME,\n",
        "  SIGNED_AT DATETIME,\n",
        "  REVENUE REAL\n",
        "\n",
        ");\"\"\"\n"
      ],
      "execution_count": 3,
      "outputs": []
    },
    {
      "cell_type": "code",
      "metadata": {
        "id": "8vytcue-Jxjk"
      },
      "source": [
        "import sqlite3\n",
        "\n",
        "#Cria tabelas\n",
        "\n",
        "con = sqlite3.connect(\"db.sqlite\")\n",
        "\n",
        "con.execute(createADSMedia)\n",
        "con.execute(createPageview)\n",
        "con.execute(createCustomerLeadsFunnel)\n",
        "\n",
        "con.close()"
      ],
      "execution_count": 4,
      "outputs": []
    },
    {
      "cell_type": "code",
      "metadata": {
        "id": "cQJG-Ncchxtu"
      },
      "source": [
        "#Carrega os dados nas tabelas\n",
        "\n",
        "con = sqlite3.connect(\"db.sqlite\")\n",
        "\n",
        "googleAdsMediaCosts.to_sql('ADS_MEDIA_COSTS', con=con, if_exists='append', index= False)\n",
        "facebookAdsMediaCosts.to_sql('ADS_MEDIA_COSTS', con=con, if_exists='append', index= False)\n",
        "pageviewDataFrame.to_sql('PAGEVIEW', con=con, if_exists='append', index= False)\n",
        "customer_leads_funnel.to_sql('CUSTOMER_LEADS_FUNNEL', con=con, if_exists='append', index= False)\n",
        "\n",
        "con.close()"
      ],
      "execution_count": 5,
      "outputs": []
    },
    {
      "cell_type": "code",
      "metadata": {
        "colab": {
          "base_uri": "https://localhost:8080/"
        },
        "id": "WKCRz3yCiDhd",
        "outputId": "acf2f635-42d8-4364-fca7-dd833cd50090"
      },
      "source": [
        "#Checa se inseriu os dados e se houve perdas no caminho\n",
        "\n",
        "con = sqlite3.connect(\"db.sqlite\")\n",
        "cur = con.cursor()\n",
        "\n",
        "for row in cur.execute(\"SELECT count(*) FROM ADS_MEDIA_COSTS\"):\n",
        "    print(row[0] == (len(googleAdsMediaCosts) + len(facebookAdsMediaCosts)))\n",
        "for row in cur.execute(\"SELECT count(*) FROM PAGEVIEW\"):\n",
        "    print(row[0] == len(pageviewDataFrame))\n",
        "for row in cur.execute(\"SELECT count(*) FROM CUSTOMER_LEADS_FUNNEL\"):\n",
        "    print(row[0] == len(customer_leads_funnel))\n",
        "\n",
        "con.close()"
      ],
      "execution_count": 6,
      "outputs": [
        {
          "output_type": "stream",
          "name": "stdout",
          "text": [
            "True\n",
            "True\n",
            "True\n"
          ]
        }
      ]
    },
    {
      "cell_type": "markdown",
      "metadata": {
        "id": "lslaIRFZi7Fj"
      },
      "source": [
        "Analisando e respondendo as perguntas"
      ]
    },
    {
      "cell_type": "code",
      "metadata": {
        "colab": {
          "base_uri": "https://localhost:8080/"
        },
        "id": "1xvlpdB5i8bn",
        "outputId": "4410c6b2-c444-4daf-b145-37a1c91886e3"
      },
      "source": [
        "#Campanha mais cara\n",
        "\n",
        "con = sqlite3.connect(\"db.sqlite\")\n",
        "cur = con.cursor()\n",
        "\n",
        "for row in cur.execute(\"SELECT SRC, CAMPAIGN_ID, SUM(COST) FROM ADS_MEDIA_COSTS GROUP BY CAMPAIGN_ID, SRC ORDER BY SUM(COST) DESC LIMIT 1\"):\n",
        "    print(row)\n",
        "\n",
        "con.close()"
      ],
      "execution_count": 7,
      "outputs": [
        {
          "output_type": "stream",
          "name": "stdout",
          "text": [
            "('google', 1004, 15626.58)\n"
          ]
        }
      ]
    },
    {
      "cell_type": "code",
      "metadata": {
        "colab": {
          "base_uri": "https://localhost:8080/"
        },
        "id": "7JnH3Kvjv7es",
        "outputId": "93253e1f-299a-44a0-a91e-b58f84d41dc9"
      },
      "source": [
        "#Campanha mais lucrativa\n",
        "\n",
        "con = sqlite3.connect(\"db.sqlite\")\n",
        "cur = con.cursor()\n",
        "\n",
        "#maior lucro\n",
        "#for row in cur.execute(\"SELECT ID_CAMPAIGN, SUM(REVENUE) AS RECEITA FROM PAGEVIEW A INNER JOIN CUSTOMER_LEADS_FUNNEL B ON a.ID_DEVICE = b.ID_DEVICE WHERE ID_CAMPAIGN != '' group by ID_CAMPAIGN order by SUM(REVENUE) DESC\"):\n",
        "#    print(row)\n",
        "\n",
        "for row in cur.execute(\"SELECT ID_CAMPAIGN, (RECEITA-CUSTO) AS LUCRO FROM (SELECT ID_CAMPAIGN, SUM(REVENUE) AS RECEITA FROM PAGEVIEW A INNER JOIN CUSTOMER_LEADS_FUNNEL B ON a.ID_DEVICE = b.ID_DEVICE WHERE ID_CAMPAIGN != '' group by ID_CAMPAIGN order by SUM(REVENUE) DESC) A inner join (SELECT CAMPAIGN_ID, SUM(COST) AS CUSTO FROM ADS_MEDIA_COSTS GROUP BY CAMPAIGN_ID, SRC ORDER BY SUM(COST) DESC) B on A.ID_CAMPAIGN = B.CAMPAIGN_ID LIMIT 1\"):\n",
        "    print(row)\n",
        "\n",
        "con.close()"
      ],
      "execution_count": 8,
      "outputs": [
        {
          "output_type": "stream",
          "name": "stdout",
          "text": [
            "(1009, 10060.610000000002)\n"
          ]
        }
      ]
    },
    {
      "cell_type": "code",
      "metadata": {
        "colab": {
          "base_uri": "https://localhost:8080/"
        },
        "id": "5qwBk6DiuTjP",
        "outputId": "5b954c04-9c08-449c-8ee3-9d536001d206"
      },
      "source": [
        "#Maior efetividade em cliques\n",
        "## OBS: Apenas os anúncios do google tem informações caracterizando o AD.\n",
        "\n",
        "con = sqlite3.connect(\"db.sqlite\")\n",
        "cur = con.cursor()\n",
        "\n",
        "for row in cur.execute(\"SELECT AD_CREATIVE_ID, SUM(CLICKS) FROM ADS_MEDIA_COSTS where SRC = 'google' group by AD_CREATIVE_ID order by SUM(CLICKS) desc LIMIT 1\"):\n",
        "    print(row)\n",
        "\n",
        "# Mas podemos agrupar cliques por campanha também:\n",
        "#for row in cur.execute(\"SELECT CAMPAIGN_ID, SUM(CLICKS) FROM ADS_MEDIA_COSTS where SRC = 'facebook' group by CAMPAIGN_ID order by SUM(CLICKS) desc LIMIT 1\"):\n",
        "#    print(row)\n",
        "\n",
        "con.close()"
      ],
      "execution_count": 9,
      "outputs": [
        {
          "output_type": "stream",
          "name": "stdout",
          "text": [
            "(20007, 125055489)\n"
          ]
        }
      ]
    },
    {
      "cell_type": "code",
      "metadata": {
        "colab": {
          "base_uri": "https://localhost:8080/"
        },
        "id": "8sp2H5Ba7qKs",
        "outputId": "c42ec26a-6afd-43f1-c21e-92fa65b884f6"
      },
      "source": [
        "#Maior efetividade em gerar leads\n",
        "\n",
        "con = sqlite3.connect(\"db.sqlite\")\n",
        "cur = con.cursor()\n",
        "\n",
        "for row in cur.execute(\"SELECT COUNT(ID_CREATIVE), ID_CREATIVE FROM PAGEVIEW WHERE ID_CREATIVE != '' AND ID_DEVICE IN (SELECT DISTINCT ID_DEVICE FROM CUSTOMER_LEADS_FUNNEL) GROUP BY ID_CREATIVE ORDER BY COUNT(ID_CREATIVE) DESC LIMIT 1\"):\n",
        "    print(row)\n",
        "\n",
        "con.close()"
      ],
      "execution_count": 126,
      "outputs": [
        {
          "output_type": "stream",
          "name": "stdout",
          "text": [
            "(445, 20003)\n"
          ]
        }
      ]
    },
    {
      "cell_type": "code",
      "metadata": {
        "id": "4hfQDqMLWiqW"
      },
      "source": [
        "#Gerando tabelão final\n",
        "\n",
        "#Campanha mais lucrativa\n",
        "\n",
        "con = sqlite3.connect(\"db.sqlite\")\n",
        "\n",
        "con.execute(\n",
        "\"\"\"\n",
        "\n",
        "create table IF NOT EXISTS AD_CUSTOMER AS\n",
        "\n",
        "select ID_ADS_MEDIA_COSTS, ID_PAGEVIEW, ID_CUSTOMER_LEADS_FUNNEL, A.DATE, CAMPAIGN_ID, CAMPAIGN_NAME, AD_CREATIVE_ID, AD_CREATIVE_NAME, CLICKS, IMPRESSIONS, COST, SRC,\n",
        "IP, B.DATE, URL, ID_CAMPAIGN, ID_CREATIVE, B.ID_DEVICE, REFERER, ID_LEAD, REGISTERED_AT, CREDIT_DECISION, CREDIT_DECISION_AT, SIGNED_AT, REVENUE\n",
        "from ADS_MEDIA_COSTS A INNER JOIN PAGEVIEW B ON A.CAMPAIGN_ID = B.ID_CAMPAIGN INNER JOIN CUSTOMER_LEADS_FUNNEL C ON B.ID_DEVICE = C.ID_DEVICE\n",
        "\n",
        "\"\"\"\n",
        ")\n",
        "\n",
        "\n",
        "con.close()"
      ],
      "execution_count": 39,
      "outputs": []
    },
    {
      "cell_type": "code",
      "metadata": {
        "colab": {
          "base_uri": "https://localhost:8080/"
        },
        "id": "_hNBnC0-Yll2",
        "outputId": "be835a9b-d87d-4aa7-8b52-60dde8968e58"
      },
      "source": [
        "##Campanha mais cara NO TABELÃO\n",
        "\n",
        "con = sqlite3.connect(\"db.sqlite\")\n",
        "cur = con.cursor()\n",
        "\n",
        "for row in cur.execute(\"SELECT SUM(COST), CAMPAIGN_ID FROM (SELECT DISTINCT ID_ADS_MEDIA_COSTS, CAMPAIGN_ID, COST FROM AD_CUSTOMER) GROUP BY CAMPAIGN_ID ORDER BY SUM(COST) DESC LIMIT 1\"):\n",
        "    print(row)\n",
        "\n",
        "con.close()"
      ],
      "execution_count": 42,
      "outputs": [
        {
          "output_type": "stream",
          "name": "stdout",
          "text": [
            "(15626.58, 1004)\n"
          ]
        }
      ]
    },
    {
      "cell_type": "code",
      "metadata": {
        "colab": {
          "base_uri": "https://localhost:8080/"
        },
        "id": "wTFgCesAZDH9",
        "outputId": "47f5473a-a0f9-428f-b370-d2577bcca620"
      },
      "source": [
        "##Maior lucro NO TABELÃO\n",
        "\n",
        "con = sqlite3.connect(\"db.sqlite\")\n",
        "cur = con.cursor()\n",
        "\n",
        "for row in cur.execute(\"SELECT A.CAMPAIGN_ID, (RECEITA-CUSTO) AS LUCRO FROM (SELECT SUM(COST) AS CUSTO, CAMPAIGN_ID FROM (SELECT DISTINCT ID_ADS_MEDIA_COSTS, CAMPAIGN_ID, COST FROM AD_CUSTOMER) GROUP BY CAMPAIGN_ID) A inner join (SELECT SUM(REVENUE) AS RECEITA, CAMPAIGN_ID FROM (SELECT DISTINCT ID_CUSTOMER_LEADS_FUNNEL, CAMPAIGN_ID, REVENUE FROM AD_CUSTOMER) GROUP BY CAMPAIGN_ID) B ON A.CAMPAIGN_ID = B.CAMPAIGN_ID ORDER BY LUCRO DESC LIMIT 1\"):\n",
        "    print(row)\n",
        "\n",
        "con.close()"
      ],
      "execution_count": 48,
      "outputs": [
        {
          "output_type": "stream",
          "name": "stdout",
          "text": [
            "(1009, 10060.609999999999)\n"
          ]
        }
      ]
    },
    {
      "cell_type": "code",
      "metadata": {
        "colab": {
          "base_uri": "https://localhost:8080/"
        },
        "id": "sZ7cqoNHZxF-",
        "outputId": "cfb9cd8e-5b4e-4e99-8c3b-fc3b5c33ea7f"
      },
      "source": [
        "##Maior efetividade em cliques NO TABELAO\n",
        "\n",
        "con = sqlite3.connect(\"db.sqlite\")\n",
        "cur = con.cursor()\n",
        "\n",
        "for row in cur.execute(\"SELECT SUM(CLICKS), AD_CREATIVE_ID FROM (SELECT DISTINCT ID_ADS_MEDIA_COSTS, AD_CREATIVE_ID, CLICKS FROM AD_CUSTOMER WHERE AD_CREATIVE_ID IS NOT NULL) GROUP BY AD_CREATIVE_ID ORDER BY SUM(CLICKS) DESC LIMIT 1\"):\n",
        "    print(row)\n",
        "\n",
        "con.close()"
      ],
      "execution_count": 51,
      "outputs": [
        {
          "output_type": "stream",
          "name": "stdout",
          "text": [
            "(125055489, 20007)\n"
          ]
        }
      ]
    },
    {
      "cell_type": "code",
      "metadata": {
        "colab": {
          "base_uri": "https://localhost:8080/"
        },
        "id": "4PobH4QlauVo",
        "outputId": "630bf8ba-6735-41d8-cb52-ccc9fb2be9c5"
      },
      "source": [
        "##Maior efetividade em leads NO TABELAO\n",
        "\n",
        "con = sqlite3.connect(\"db.sqlite\")\n",
        "cur = con.cursor()\n",
        "\n",
        "for row in cur.execute(\"SELECT ID_CREATIVE, COUNT(ID_CREATIVE) FROM (SELECT ID_CREATIVE FROM AD_CUSTOMER WHERE ID_CREATIVE != '' AND ID_DEVICE IN (SELECT ID_DEVICE FROM AD_CUSTOMER GROUP BY ID_CUSTOMER_LEADS_FUNNEL, ID_PAGEVIEW, ID_DEVICE) GROUP BY ID_DEVICE) GROUP BY ID_CREATIVE ORDER BY COUNT(ID_CREATIVE) DESC LIMIT 1\"):\n",
        "    print(row)\n",
        "\n",
        "con.close()"
      ],
      "execution_count": 125,
      "outputs": [
        {
          "output_type": "stream",
          "name": "stdout",
          "text": [
            "(20003, 445)\n"
          ]
        }
      ]
    },
    {
      "cell_type": "code",
      "metadata": {
        "id": "FnaOvvbGbCbi"
      },
      "source": [
        "### respostas ###\n",
        "\n",
        "#1 - 1004\n",
        "#2 - 1009\n",
        "#3 - 20007\n",
        "#4 - 20003\n",
        "\n",
        "### querys ###\n",
        "\n",
        "#1 - SELECT SUM(COST), CAMPAIGN_ID FROM (SELECT DISTINCT ID_ADS_MEDIA_COSTS, CAMPAIGN_ID, COST FROM AD_CUSTOMER) GROUP BY CAMPAIGN_ID ORDER BY SUM(COST) DESC LIMIT 1\n",
        "#2 - SELECT A.CAMPAIGN_ID, (RECEITA-CUSTO) AS LUCRO FROM (SELECT SUM(COST) AS CUSTO, CAMPAIGN_ID FROM (SELECT DISTINCT ID_ADS_MEDIA_COSTS, CAMPAIGN_ID, COST FROM AD_CUSTOMER) GROUP BY CAMPAIGN_ID) A inner join (SELECT SUM(REVENUE) AS RECEITA, CAMPAIGN_ID FROM (SELECT DISTINCT ID_CUSTOMER_LEADS_FUNNEL, CAMPAIGN_ID, REVENUE FROM AD_CUSTOMER) GROUP BY CAMPAIGN_ID) B ON A.CAMPAIGN_ID = B.CAMPAIGN_ID ORDER BY LUCRO DESC LIMIT 1\n",
        "#3 - SELECT SUM(CLICKS), AD_CREATIVE_ID FROM (SELECT DISTINCT ID_ADS_MEDIA_COSTS, AD_CREATIVE_ID, CLICKS FROM AD_CUSTOMER WHERE AD_CREATIVE_ID IS NOT NULL) GROUP BY AD_CREATIVE_ID ORDER BY SUM(CLICKS) DESC LIMIT 1\n",
        "#4 - SELECT ID_CREATIVE, COUNT(ID_CREATIVE) FROM (SELECT ID_CREATIVE FROM AD_CUSTOMER WHERE ID_CREATIVE != '' AND ID_DEVICE IN (SELECT ID_DEVICE FROM AD_CUSTOMER GROUP BY ID_CUSTOMER_LEADS_FUNNEL, ID_PAGEVIEW, ID_DEVICE) GROUP BY ID_DEVICE) GROUP BY ID_CREATIVE ORDER BY COUNT(ID_CREATIVE) DESC LIMIT 1"
      ],
      "execution_count": 127,
      "outputs": []
    },
    {
      "cell_type": "markdown",
      "metadata": {
        "id": "hE4r0ALFjdT5"
      },
      "source": [
        "Questão 2\n",
        "\n",
        "Athena é uma engine para fazer consultas em dados armazenados em S3. Já o Redshift Spectrum é utilizado junto as ferramentas do AWS Redshift. Além disso, sobre o Redshift é possível ter controle sobre a alocação dee recursos, enquando que no caso do Athena é alocado automaticamente. E, ainda, de forma macro, o Redshift Spectrum consegue lidar melhor com grandes querys e quantidades de dados.\n"
      ]
    },
    {
      "cell_type": "markdown",
      "metadata": {
        "id": "-KxPBdjbjh74"
      },
      "source": [
        "Questão 3\n",
        "\n",
        "A maior diferença é o fato do ETL carregar os dados de um sistema origem, transformá-los no meio do caminho e levar ao sistema destino. Já o ELT carrega os dados diretamente no destino e os transforma lá.\n",
        "\n",
        "Dessa forma, quando existe um volume de dados muito grande, é mais vantajoso utilizar o padrão ELT."
      ]
    },
    {
      "cell_type": "markdown",
      "metadata": {
        "id": "mTe5CbiQkJgH"
      },
      "source": [
        "##Parte 2"
      ]
    },
    {
      "cell_type": "markdown",
      "metadata": {
        "id": "oXFbG5lakMrR"
      },
      "source": [
        "Q4 - ⦁\tConsolida a quantidade de clientes ativos e o valor transacionado por data de transação"
      ]
    },
    {
      "cell_type": "markdown",
      "metadata": {
        "id": "IrBk_L5ikMte"
      },
      "source": [
        "Q5 ⦁\tIntegrantes da etapa de transformação \n"
      ]
    },
    {
      "cell_type": "markdown",
      "metadata": {
        "id": "3Re3K1arkMzP"
      },
      "source": [
        "Q6 ⦁\tETL "
      ]
    },
    {
      "cell_type": "markdown",
      "metadata": {
        "id": "_B5F92V7lNbV"
      },
      "source": [
        "Q7: Hadoop e Cassandra."
      ]
    },
    {
      "cell_type": "markdown",
      "metadata": {
        "id": "h7QDete7lNkc"
      },
      "source": [
        "Q8 ⦁\tGoogle BigQuery, Apache Spark, Amazon Redshift \n"
      ]
    },
    {
      "cell_type": "markdown",
      "metadata": {
        "id": "OXkvmHIXly_l"
      },
      "source": [
        "Q9 ⦁\tAvro"
      ]
    },
    {
      "cell_type": "markdown",
      "metadata": {
        "id": "3_2abOjmlN1l"
      },
      "source": [
        "Q10 ⦁\tApache Kafka \n"
      ]
    }
  ]
}